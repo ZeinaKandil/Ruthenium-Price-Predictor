{
  "nbformat": 4,
  "nbformat_minor": 0,
  "metadata": {
    "colab": {
      "name": "Untitled0.ipynb",
      "provenance": [],
      "authorship_tag": "ABX9TyNqKQ6Mnudm+2u/esBr4Wd7",
      "include_colab_link": true
    },
    "kernelspec": {
      "name": "python3",
      "display_name": "Python 3"
    }
  },
  "cells": [
    {
      "cell_type": "markdown",
      "metadata": {
        "id": "view-in-github",
        "colab_type": "text"
      },
      "source": [
        "<a href=\"https://colab.research.google.com/github/ZeinaKandil/Ruthenium-Price-Predictor/blob/master/Trial.ipynb\" target=\"_parent\"><img src=\"https://colab.research.google.com/assets/colab-badge.svg\" alt=\"Open In Colab\"/></a>"
      ]
    },
    {
      "cell_type": "code",
      "metadata": {
        "id": "Emspc0twV2Qz"
      },
      "source": [
        "from itertools import combinations\n",
        "num_buns = 5"
      ],
      "execution_count": null,
      "outputs": []
    },
    {
      "cell_type": "code",
      "metadata": {
        "id": "H0V6GMPyWP-Q"
      },
      "source": [
        "num_required = 3\n",
        "keyrings = [[] for num in range(num_buns)]\n",
        "copies_per_key = num_buns - num_required + 1"
      ],
      "execution_count": null,
      "outputs": []
    },
    {
      "cell_type": "code",
      "metadata": {
        "id": "YbGu7jeQYyHz",
        "colab": {
          "base_uri": "https://localhost:8080/",
          "height": 193
        },
        "outputId": "a3b7dc27-3aa6-453a-f3bd-6bf9fb980eb9"
      },
      "source": [
        "list(enumerate(combinations(range(num_buns), copies_per_key)))"
      ],
      "execution_count": null,
      "outputs": [
        {
          "output_type": "execute_result",
          "data": {
            "text/plain": [
              "[(0, (0, 1, 2)),\n",
              " (1, (0, 1, 3)),\n",
              " (2, (0, 1, 4)),\n",
              " (3, (0, 2, 3)),\n",
              " (4, (0, 2, 4)),\n",
              " (5, (0, 3, 4)),\n",
              " (6, (1, 2, 3)),\n",
              " (7, (1, 2, 4)),\n",
              " (8, (1, 3, 4)),\n",
              " (9, (2, 3, 4))]"
            ]
          },
          "metadata": {
            "tags": []
          },
          "execution_count": 25
        }
      ]
    },
    {
      "cell_type": "code",
      "metadata": {
        "id": "t6v1Z5WjaNO7",
        "colab": {
          "base_uri": "https://localhost:8080/",
          "height": 545
        },
        "outputId": "59480ed6-acf3-409b-e53b-6c73db60c7db"
      },
      "source": [
        "for key, bunnies in enumerate(combinations(range(num_buns), copies_per_key)):\n",
        "   for bunny in bunnies:\n",
        "     print(bunny)"
      ],
      "execution_count": null,
      "outputs": [
        {
          "output_type": "stream",
          "text": [
            "0\n",
            "1\n",
            "2\n",
            "0\n",
            "1\n",
            "3\n",
            "0\n",
            "1\n",
            "4\n",
            "0\n",
            "2\n",
            "3\n",
            "0\n",
            "2\n",
            "4\n",
            "0\n",
            "3\n",
            "4\n",
            "1\n",
            "2\n",
            "3\n",
            "1\n",
            "2\n",
            "4\n",
            "1\n",
            "3\n",
            "4\n",
            "2\n",
            "3\n",
            "4\n"
          ],
          "name": "stdout"
        }
      ]
    },
    {
      "cell_type": "code",
      "metadata": {
        "id": "QuDzga2nXwvf"
      },
      "source": [
        " for key, bunnies in enumerate(combinations(range(num_buns), copies_per_key)):\n",
        "   for bunny in bunnies:\n",
        "     keyrings[bunny].append(key)"
      ],
      "execution_count": null,
      "outputs": []
    },
    {
      "cell_type": "code",
      "metadata": {
        "id": "rhO-FYF0Yser",
        "colab": {
          "base_uri": "https://localhost:8080/",
          "height": 105
        },
        "outputId": "37a0cec8-029f-4b34-c859-ce3e1d15efd2"
      },
      "source": [
        "keyrings"
      ],
      "execution_count": null,
      "outputs": [
        {
          "output_type": "execute_result",
          "data": {
            "text/plain": [
              "[[0, 1, 2, 3, 4, 5],\n",
              " [0, 1, 2, 6, 7, 8],\n",
              " [0, 3, 4, 6, 7, 9],\n",
              " [1, 3, 5, 6, 8, 9],\n",
              " [2, 4, 5, 7, 8, 9]]"
            ]
          },
          "metadata": {
            "tags": []
          },
          "execution_count": 20
        }
      ]
    }
  ]
}