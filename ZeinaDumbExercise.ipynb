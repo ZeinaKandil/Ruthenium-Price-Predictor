{
  "nbformat": 4,
  "nbformat_minor": 0,
  "metadata": {
    "colab": {
      "name": "ZeinaDumbExercise.ipynb",
      "provenance": [],
      "include_colab_link": true
    },
    "kernelspec": {
      "name": "python3",
      "display_name": "Python 3"
    }
  },
  "cells": [
    {
      "cell_type": "markdown",
      "metadata": {
        "id": "view-in-github",
        "colab_type": "text"
      },
      "source": [
        "<a href=\"https://colab.research.google.com/github/ZeinaKandil/Ruthenium-Price-Predictor/blob/master/ZeinaDumbExercise.ipynb\" target=\"_parent\"><img src=\"https://colab.research.google.com/assets/colab-badge.svg\" alt=\"Open In Colab\"/></a>"
      ]
    },
    {
      "cell_type": "code",
      "metadata": {
        "id": "ac-LJYphWcfQ",
        "colab_type": "code",
        "colab": {}
      },
      "source": [
        "import numpy as np\n",
        "import pandas as pd\n",
        "from sklearn.linear_model import LinearRegression"
      ],
      "execution_count": 0,
      "outputs": []
    },
    {
      "cell_type": "code",
      "metadata": {
        "id": "85DxLsQTYu3j",
        "colab_type": "code",
        "outputId": "f1baaccd-a623-4255-87d1-13dbb324f7b3",
        "colab": {
          "base_uri": "https://localhost:8080/",
          "height": 34
        }
      },
      "source": [
        "from google.colab import drive\n",
        "drive.mount('/content/drive', force_remount=True)"
      ],
      "execution_count": 15,
      "outputs": [
        {
          "output_type": "stream",
          "text": [
            "Mounted at /content/drive\n"
          ],
          "name": "stdout"
        }
      ]
    },
    {
      "cell_type": "code",
      "metadata": {
        "id": "bR4K3eihZNoB",
        "colab_type": "code",
        "colab": {}
      },
      "source": [
        "input_data = pd.read_csv('/content/drive/My Drive/Ruthenium_Prices.csv', header=None, skiprows=1)"
      ],
      "execution_count": 0,
      "outputs": []
    },
    {
      "cell_type": "code",
      "metadata": {
        "id": "q-YjZprKcNkI",
        "colab_type": "code",
        "colab": {}
      },
      "source": [
        "input_data = np.array(input_data)"
      ],
      "execution_count": 0,
      "outputs": []
    },
    {
      "cell_type": "code",
      "metadata": {
        "id": "TjRIoHcnc1fr",
        "colab_type": "code",
        "colab": {}
      },
      "source": [
        "input_data_split = np.array([element[0].split(\";\") for element in input_data])"
      ],
      "execution_count": 0,
      "outputs": []
    },
    {
      "cell_type": "code",
      "metadata": {
        "id": "pLLFUHZ6dMRX",
        "colab_type": "code",
        "colab": {}
      },
      "source": [
        "model_x = input_data_split[:,0]"
      ],
      "execution_count": 0,
      "outputs": []
    },
    {
      "cell_type": "code",
      "metadata": {
        "id": "WVvO4yrkeQ1v",
        "colab_type": "code",
        "colab": {}
      },
      "source": [
        "model_y = input_data_split[:,1]"
      ],
      "execution_count": 0,
      "outputs": []
    },
    {
      "cell_type": "code",
      "metadata": {
        "id": "zK5SHlPOhsHH",
        "colab_type": "code",
        "colab": {}
      },
      "source": [
        " model_x = np.array([date.split(\"-\") for date in model_x])"
      ],
      "execution_count": 0,
      "outputs": []
    },
    {
      "cell_type": "code",
      "metadata": {
        "id": "M8u4Oj4Sj0P4",
        "colab_type": "code",
        "colab": {}
      },
      "source": [
        "model_x = [list(map(int,date)) for date in model_x] "
      ],
      "execution_count": 0,
      "outputs": []
    },
    {
      "cell_type": "code",
      "metadata": {
        "id": "AqJRd9jDllug",
        "colab_type": "code",
        "colab": {}
      },
      "source": [
        "model_y = [int(float(price)) for price in model_y]"
      ],
      "execution_count": 0,
      "outputs": []
    },
    {
      "cell_type": "code",
      "metadata": {
        "id": "rLuHLY88gI5B",
        "colab_type": "code",
        "colab": {}
      },
      "source": [
        "reg = LinearRegression().fit(model_x, model_y)"
      ],
      "execution_count": 0,
      "outputs": []
    },
    {
      "cell_type": "code",
      "metadata": {
        "id": "-U-giTGhmBxL",
        "colab_type": "code",
        "colab": {}
      },
      "source": [
        "def getOutput(Year, Month, Day):\n",
        "  print(\"Price of Ruthenium on that date is $\", reg.predict([[Year,Month,Day]])[0])"
      ],
      "execution_count": 0,
      "outputs": []
    },
    {
      "cell_type": "code",
      "metadata": {
        "id": "wXofOh-6yPzt",
        "colab_type": "code",
        "colab": {}
      },
      "source": [
        "def checkValidity(Y, M, D):\n",
        "  if(Y<=0 or M<=0 or D<=0 or M>12):\n",
        "    return False\n",
        "  if(M == 2):\n",
        "    if(Y%4==0 and D>29):\n",
        "      return False\n",
        "    if(D>28):\n",
        "      return False\n",
        "  if(M in [4,6,9,11]):\n",
        "    if(D>30):\n",
        "      return False\n",
        "  else:\n",
        "    if(D>31):\n",
        "      return False\n",
        "  return True\n"
      ],
      "execution_count": 0,
      "outputs": []
    },
    {
      "cell_type": "code",
      "metadata": {
        "id": "uGhLM3OQw1TU",
        "colab_type": "code",
        "colab": {}
      },
      "source": [
        "def Testing():\n",
        "  print(\"Enter a date to view the price of Ruthenium on that day!\")\n",
        "  Year = int(input(\"Enter the year as a number \"))\n",
        "  Month = int(input(\"Enter the month as a number \"))\n",
        "  Day = int(input(\"Enter the Day as a number \"))\n",
        "  if(checkValidity(Year, Month, Day)):\n",
        "    getOutput(Year, Month, Day)\n",
        "  else:\n",
        "    print(\"Invalid Date! Give it another go...\")\n",
        "    Testing()"
      ],
      "execution_count": 0,
      "outputs": []
    },
    {
      "cell_type": "code",
      "metadata": {
        "id": "dDIzSKbZnRyU",
        "colab_type": "code",
        "colab": {}
      },
      "source": [
        "# getOutput(2020,3,20)\n",
        "Testing()\n"
      ],
      "execution_count": 0,
      "outputs": []
    }
  ]
}