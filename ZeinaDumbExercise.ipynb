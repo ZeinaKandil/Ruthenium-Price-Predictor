{
  "nbformat": 4,
  "nbformat_minor": 0,
  "metadata": {
    "colab": {
      "name": "ZeinaDumbExercise.ipynb",
      "provenance": [],
      "include_colab_link": true
    },
    "kernelspec": {
      "name": "python3",
      "display_name": "Python 3"
    }
  },
  "cells": [
    {
      "cell_type": "markdown",
      "metadata": {
        "id": "view-in-github",
        "colab_type": "text"
      },
      "source": [
        "<a href=\"https://colab.research.google.com/github/ZeinaKandil/Ruthenium-Price-Predictor/blob/master/ZeinaDumbExercise.ipynb\" target=\"_parent\"><img src=\"https://colab.research.google.com/assets/colab-badge.svg\" alt=\"Open In Colab\"/></a>"
      ]
    },
    {
      "cell_type": "code",
      "metadata": {
        "id": "ac-LJYphWcfQ",
        "colab_type": "code",
        "colab": {}
      },
      "source": [
        "import numpy as np\n",
        "import pandas as pd\n",
        "from sklearn.linear_model import LinearRegression"
      ],
      "execution_count": 0,
      "outputs": []
    },
    {
      "cell_type": "code",
      "metadata": {
        "id": "85DxLsQTYu3j",
        "colab_type": "code",
        "outputId": "d760bcb3-2ab9-4909-da2a-bd6530692977",
        "colab": {
          "base_uri": "https://localhost:8080/",
          "height": 122
        }
      },
      "source": [
        "from google.colab import drive\n",
        "drive.mount('/content/drive')"
      ],
      "execution_count": 0,
      "outputs": [
        {
          "output_type": "stream",
          "text": [
            "Go to this URL in a browser: https://accounts.google.com/o/oauth2/auth?client_id=947318989803-6bn6qk8qdgf4n4g3pfee6491hc0brc4i.apps.googleusercontent.com&redirect_uri=urn%3aietf%3awg%3aoauth%3a2.0%3aoob&response_type=code&scope=email%20https%3a%2f%2fwww.googleapis.com%2fauth%2fdocs.test%20https%3a%2f%2fwww.googleapis.com%2fauth%2fdrive%20https%3a%2f%2fwww.googleapis.com%2fauth%2fdrive.photos.readonly%20https%3a%2f%2fwww.googleapis.com%2fauth%2fpeopleapi.readonly\n",
            "\n",
            "Enter your authorization code:\n",
            "··········\n",
            "Mounted at /content/drive\n"
          ],
          "name": "stdout"
        }
      ]
    },
    {
      "cell_type": "code",
      "metadata": {
        "id": "bR4K3eihZNoB",
        "colab_type": "code",
        "colab": {}
      },
      "source": [
        "input_data = pd.read_csv('/content/drive/My Drive/Colab Notebooks/Ruthenium_Prices.csv', header=None, skiprows=1)"
      ],
      "execution_count": 0,
      "outputs": []
    },
    {
      "cell_type": "code",
      "metadata": {
        "id": "q-YjZprKcNkI",
        "colab_type": "code",
        "colab": {}
      },
      "source": [
        "input_data = np.array(input_data)"
      ],
      "execution_count": 0,
      "outputs": []
    },
    {
      "cell_type": "code",
      "metadata": {
        "id": "TjRIoHcnc1fr",
        "colab_type": "code",
        "colab": {}
      },
      "source": [
        "input_data_split = np.array([element[0].split(\";\") for element in input_data])"
      ],
      "execution_count": 0,
      "outputs": []
    },
    {
      "cell_type": "code",
      "metadata": {
        "id": "pLLFUHZ6dMRX",
        "colab_type": "code",
        "colab": {}
      },
      "source": [
        "model_x = input_data_split[:,0]"
      ],
      "execution_count": 0,
      "outputs": []
    },
    {
      "cell_type": "code",
      "metadata": {
        "id": "WVvO4yrkeQ1v",
        "colab_type": "code",
        "colab": {}
      },
      "source": [
        "model_y = input_data_split[:,1]"
      ],
      "execution_count": 0,
      "outputs": []
    },
    {
      "cell_type": "code",
      "metadata": {
        "id": "BrVCeBhsk4Ne",
        "colab_type": "code",
        "colab": {}
      },
      "source": [
        "model_x = []"
      ],
      "execution_count": 0,
      "outputs": []
    },
    {
      "cell_type": "code",
      "metadata": {
        "id": "zK5SHlPOhsHH",
        "colab_type": "code",
        "colab": {}
      },
      "source": [
        " model_x = np.array([date.split(\"-\") for date in model_x])"
      ],
      "execution_count": 0,
      "outputs": []
    },
    {
      "cell_type": "code",
      "metadata": {
        "id": "M8u4Oj4Sj0P4",
        "colab_type": "code",
        "colab": {}
      },
      "source": [
        "model_x = [list(map(int,date)) for date in model_x] "
      ],
      "execution_count": 0,
      "outputs": []
    },
    {
      "cell_type": "code",
      "metadata": {
        "id": "AqJRd9jDllug",
        "colab_type": "code",
        "colab": {}
      },
      "source": [
        "model_y = [int(float(price)) for price in model_y]"
      ],
      "execution_count": 0,
      "outputs": []
    },
    {
      "cell_type": "code",
      "metadata": {
        "id": "rLuHLY88gI5B",
        "colab_type": "code",
        "colab": {}
      },
      "source": [
        "reg = LinearRegression().fit(model_x, model_y)"
      ],
      "execution_count": 0,
      "outputs": []
    },
    {
      "cell_type": "code",
      "metadata": {
        "id": "-U-giTGhmBxL",
        "colab_type": "code",
        "colab": {}
      },
      "source": [
        "def getOutput(test_x):\n",
        "  print(\"price $\", reg.predict([[2020,2,30]])[0])"
      ],
      "execution_count": 0,
      "outputs": []
    },
    {
      "cell_type": "code",
      "metadata": {
        "id": "dDIzSKbZnRyU",
        "colab_type": "code",
        "outputId": "f36b543f-e0d2-495a-ed10-1b5992289b4d",
        "colab": {
          "base_uri": "https://localhost:8080/",
          "height": 34
        }
      },
      "source": [
        "getOutput([[2020,3,20]])"
      ],
      "execution_count": 0,
      "outputs": [
        {
          "output_type": "stream",
          "text": [
            "price $ 201.1934058827046\n"
          ],
          "name": "stdout"
        }
      ]
    },
    {
      "cell_type": "code",
      "metadata": {
        "id": "XN1ml09WnU6o",
        "colab_type": "code",
        "colab": {}
      },
      "source": [
        ""
      ],
      "execution_count": 0,
      "outputs": []
    }
  ]
}