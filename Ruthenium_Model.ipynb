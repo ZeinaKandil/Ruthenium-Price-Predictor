{
  "nbformat": 4,
  "nbformat_minor": 0,
  "metadata": {
    "colab": {
      "name": "Ruthenium Model.ipynb",
      "provenance": [],
      "include_colab_link": true
    },
    "kernelspec": {
      "name": "python3",
      "display_name": "Python 3"
    }
  },
  "cells": [
    {
      "cell_type": "markdown",
      "metadata": {
        "id": "view-in-github",
        "colab_type": "text"
      },
      "source": [
        "<a href=\"https://colab.research.google.com/github/ZeinaKandil/Ruthenium-Price-Predictor/blob/master/Ruthenium_Model.ipynb\" target=\"_parent\"><img src=\"https://colab.research.google.com/assets/colab-badge.svg\" alt=\"Open In Colab\"/></a>"
      ]
    },
    {
      "cell_type": "code",
      "metadata": {
        "id": "g1NbYQjf2PFG",
        "colab_type": "code",
        "colab": {}
      },
      "source": [
        "import numpy as np\n",
        "import pandas as pd\n",
        "from sklearn.linear_model import LinearRegression"
      ],
      "execution_count": 0,
      "outputs": []
    },
    {
      "cell_type": "code",
      "metadata": {
        "id": "16FB7FL42ebw",
        "colab_type": "code",
        "colab": {}
      },
      "source": [
        "from google.colab import drive\n",
        "drive.mount('/content/drive')"
      ],
      "execution_count": 0,
      "outputs": []
    },
    {
      "cell_type": "code",
      "metadata": {
        "id": "lWkYxbEk2q0X",
        "colab_type": "code",
        "colab": {}
      },
      "source": [
        "\n",
        "input_data = pd.read_csv('/content/drive/My Drive/Ruthenium_Prices.csv', header=None, skiprows=1)"
      ],
      "execution_count": 0,
      "outputs": []
    },
    {
      "cell_type": "code",
      "metadata": {
        "id": "WHq3zVrv241T",
        "colab_type": "code",
        "colab": {}
      },
      "source": [
        "\n",
        "input_data = np.array(input_data)"
      ],
      "execution_count": 0,
      "outputs": []
    },
    {
      "cell_type": "code",
      "metadata": {
        "id": "h6ZqTQHk2-Y9",
        "colab_type": "code",
        "colab": {}
      },
      "source": [
        "input_data_split = np.array([element[0].split(\";\") for element in input_data])"
      ],
      "execution_count": 0,
      "outputs": []
    },
    {
      "cell_type": "code",
      "metadata": {
        "id": "hN0E33y93BlI",
        "colab_type": "code",
        "colab": {}
      },
      "source": [
        "model_x = input_data_split[:,0]"
      ],
      "execution_count": 0,
      "outputs": []
    },
    {
      "cell_type": "code",
      "metadata": {
        "id": "EW_HiFB63Fxe",
        "colab_type": "code",
        "colab": {}
      },
      "source": [
        "model_y = input_data_split[:,1]"
      ],
      "execution_count": 0,
      "outputs": []
    },
    {
      "cell_type": "code",
      "metadata": {
        "id": "R-4nu_nL3JDw",
        "colab_type": "code",
        "colab": {}
      },
      "source": [
        "model_x = np.array([date.split(\"-\") for date in model_x])"
      ],
      "execution_count": 0,
      "outputs": []
    },
    {
      "cell_type": "code",
      "metadata": {
        "id": "6jvbbBsG3Pgo",
        "colab_type": "code",
        "colab": {}
      },
      "source": [
        "model_x = [list(map(int,date)) for date in model_x]"
      ],
      "execution_count": 0,
      "outputs": []
    },
    {
      "cell_type": "code",
      "metadata": {
        "id": "XDV82Egc3RZ2",
        "colab_type": "code",
        "colab": {}
      },
      "source": [
        "model_y = [int(float(price)) for price in model_y]"
      ],
      "execution_count": 0,
      "outputs": []
    },
    {
      "cell_type": "code",
      "metadata": {
        "id": "fEKuLYJA_IS6",
        "colab_type": "code",
        "colab": {}
      },
      "source": [
        "model_days = np.array([(day[0]-1992) * 365 + day[1] * 30 + day[2] for day in (date for date in model_x)])"
      ],
      "execution_count": 0,
      "outputs": []
    },
    {
      "cell_type": "code",
      "metadata": {
        "id": "u4tlSbd7CRcA",
        "colab_type": "code",
        "colab": {}
      },
      "source": [
        "model_days = model_days.reshape(-1,1)"
      ],
      "execution_count": 0,
      "outputs": []
    },
    {
      "cell_type": "code",
      "metadata": {
        "id": "bgL7hZA4Rt-X",
        "colab_type": "code",
        "colab": {}
      },
      "source": [
        "reg = LinearRegression().fit(model_days, model_y)"
      ],
      "execution_count": 0,
      "outputs": []
    },
    {
      "cell_type": "code",
      "metadata": {
        "id": "YFwn4a3E3avX",
        "colab_type": "code",
        "colab": {}
      },
      "source": [
        "def getOutput(Year, Month, Day):\n",
        "  days = (Year-1992)*365 + Month*30 + Day\n",
        "  price = reg.predict([[days]])[0]\n",
        "  print(\"Price of Ruthenium on that date is $\", price)\n",
        "  # print(\"Price of Ruthenium on that date is $\", reg.predict([[Year,Month,Day]])[0])"
      ],
      "execution_count": 0,
      "outputs": []
    },
    {
      "cell_type": "code",
      "metadata": {
        "id": "0uGLFGr23lQ7",
        "colab_type": "code",
        "colab": {}
      },
      "source": [
        "def checkValidity(Y, M, D):\n",
        "  if(Y<=0 or M<=0 or D<=0 or M>12):\n",
        "    return False\n",
        "  if(M == 2):\n",
        "    if(Y%4==0 and D>29):\n",
        "      return False\n",
        "    if(D>28):\n",
        "      return False\n",
        "  if(M in [4,6,9,11]):\n",
        "    if(D>30):\n",
        "      return False\n",
        "  else:\n",
        "    if(D>31):\n",
        "      return False\n",
        "  return True"
      ],
      "execution_count": 0,
      "outputs": []
    },
    {
      "cell_type": "code",
      "metadata": {
        "id": "5-SyE45pzSz7",
        "colab_type": "code",
        "colab": {}
      },
      "source": [
        "def checkPeriod(Y,M):\n",
        "  if(Y<1992 or (Y==1992 and M<7)):\n",
        "    return False\n",
        "  return True"
      ],
      "execution_count": 0,
      "outputs": []
    },
    {
      "cell_type": "code",
      "metadata": {
        "id": "B5NpLLH43ogt",
        "colab_type": "code",
        "colab": {}
      },
      "source": [
        "def Testing():\n",
        "  print(\"Enter a date to view the price of Ruthenium on that day!\")\n",
        "  Year = int(input(\"Enter the year as a number \"))\n",
        "  Month = int(input(\"Enter the month as a number \"))\n",
        "  Day = int(input(\"Enter the Day as a number \"))\n",
        "  if(checkValidity(Year, Month, Day)):\n",
        "    if(checkPeriod(Year, Month)):\n",
        "      getOutput(Year, Month, Day)\n",
        "    else:\n",
        "      print(\"This model gives values for periods starting June 1992. Enter a different date...\")\n",
        "      Testing()\n",
        "  else:\n",
        "    print(\"Invalid Date! Give it another go...\")\n",
        "    Testing()"
      ],
      "execution_count": 0,
      "outputs": []
    },
    {
      "cell_type": "code",
      "metadata": {
        "id": "CPb9p9r53on0",
        "colab_type": "code",
        "colab": {}
      },
      "source": [
        "# After running all of the above snippets of code in order, execute this snippet to get a predicted price for a given date\n",
        "Testing()"
      ],
      "execution_count": 0,
      "outputs": []
    }
  ]
}